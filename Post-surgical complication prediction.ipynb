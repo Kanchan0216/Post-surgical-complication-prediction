{
 "cells": [
  {
   "cell_type": "markdown",
   "id": "bab3b147",
   "metadata": {},
   "source": [
    "\n",
    "# Post - Surgical Complication Prediction\n",
    "### Problem Statement \n",
    "**Develop a machine learning model that utilizes patient demographic data and medical history to accurately predict the risk of postoperative complications.**\n",
    "\n"
   ]
  },
  {
   "cell_type": "markdown",
   "id": "92aa2db9",
   "metadata": {},
   "source": [
    "### Importing Libraries"
   ]
  },
  {
   "cell_type": "code",
   "execution_count": 1,
   "id": "b5c4f525",
   "metadata": {},
   "outputs": [],
   "source": [
    "# Data preprocessing and manipulation\n",
    "import pandas                as pd\n",
    "import numpy                 as np\n",
    "\n",
    "# Exploratory Data Analysis\n",
    "import matplotlib.pyplot as plt\n",
    "import seaborn as sns\n",
    "sns.set_style('darkgrid')\n",
    "import matplotlib.gridspec as gridspec\n",
    "%matplotlib inline\n",
    "\n",
    "# Converting non numeric value to numeric\n",
    "from sklearn.preprocessing  import LabelEncoder\n",
    "\n",
    "# Train test split\n",
    "from sklearn.model_selection import train_test_split\n",
    "\n",
    "# Model Building and evaluation\n",
    "from sklearn.linear_model        import LogisticRegression\n",
    "from sklearn.tree                import DecisionTreeClassifier\n",
    "from sklearn.ensemble            import RandomForestClassifier\n",
    "from sklearn.metrics             import confusion_matrix , recall_score , accuracy_score , precision_score , f1_score , classification_report\n",
    "\n",
    "# Hyperparamer Tunning\n",
    "from sklearn.model_selection import GridSearchCV\n",
    "\n",
    "# Ignore Warnings\n",
    "import warnings\n",
    "warnings.filterwarnings(\"ignore\")"
   ]
  },
  {
   "cell_type": "code",
   "execution_count": 2,
   "id": "3cb81336",
   "metadata": {},
   "outputs": [],
   "source": [
    "# Import Data\n",
    "df = pd.read_csv(r\"D:\\Data Science\\Imarticus Learning\\Capstone Project 1\\Postoperative_complication.csv\")"
   ]
  },
  {
   "cell_type": "code",
   "execution_count": 3,
   "id": "a2387d96",
   "metadata": {},
   "outputs": [],
   "source": [
    "# Making copy of the data\n",
    "df_copy = df.copy(deep=True)"
   ]
  },
  {
   "cell_type": "code",
   "execution_count": 4,
   "id": "e73ffc5c",
   "metadata": {},
   "outputs": [
    {
     "data": {
      "text/html": [
       "<div>\n",
       "<style scoped>\n",
       "    .dataframe tbody tr th:only-of-type {\n",
       "        vertical-align: middle;\n",
       "    }\n",
       "\n",
       "    .dataframe tbody tr th {\n",
       "        vertical-align: top;\n",
       "    }\n",
       "\n",
       "    .dataframe thead th {\n",
       "        text-align: right;\n",
       "    }\n",
       "</style>\n",
       "<table border=\"1\" class=\"dataframe\">\n",
       "  <thead>\n",
       "    <tr style=\"text-align: right;\">\n",
       "      <th></th>\n",
       "      <th>bmi</th>\n",
       "      <th>Age</th>\n",
       "      <th>asa_status</th>\n",
       "      <th>baseline_cancer</th>\n",
       "      <th>baseline_charlson</th>\n",
       "      <th>baseline_cvd</th>\n",
       "      <th>baseline_dementia</th>\n",
       "      <th>baseline_diabetes</th>\n",
       "      <th>baseline_digestive</th>\n",
       "      <th>baseline_osteoart</th>\n",
       "      <th>...</th>\n",
       "      <th>complication_rsi</th>\n",
       "      <th>dow</th>\n",
       "      <th>gender</th>\n",
       "      <th>hour</th>\n",
       "      <th>month</th>\n",
       "      <th>moonphase</th>\n",
       "      <th>mort30</th>\n",
       "      <th>mortality_rsi</th>\n",
       "      <th>race</th>\n",
       "      <th>complication</th>\n",
       "    </tr>\n",
       "  </thead>\n",
       "  <tbody>\n",
       "    <tr>\n",
       "      <th>0</th>\n",
       "      <td>19.31</td>\n",
       "      <td>59.2</td>\n",
       "      <td>1</td>\n",
       "      <td>Yes</td>\n",
       "      <td>0</td>\n",
       "      <td>No</td>\n",
       "      <td>No</td>\n",
       "      <td>No</td>\n",
       "      <td>No</td>\n",
       "      <td>No</td>\n",
       "      <td>...</td>\n",
       "      <td>-0.57</td>\n",
       "      <td>Thursday</td>\n",
       "      <td>Female</td>\n",
       "      <td>7.63</td>\n",
       "      <td>July</td>\n",
       "      <td>First Quarter</td>\n",
       "      <td>No</td>\n",
       "      <td>-0.43</td>\n",
       "      <td>1</td>\n",
       "      <td>No</td>\n",
       "    </tr>\n",
       "    <tr>\n",
       "      <th>1</th>\n",
       "      <td>18.73</td>\n",
       "      <td>59.1</td>\n",
       "      <td>0</td>\n",
       "      <td>No</td>\n",
       "      <td>0</td>\n",
       "      <td>No</td>\n",
       "      <td>No</td>\n",
       "      <td>No</td>\n",
       "      <td>No</td>\n",
       "      <td>No</td>\n",
       "      <td>...</td>\n",
       "      <td>0.21</td>\n",
       "      <td>Monday</td>\n",
       "      <td>Female</td>\n",
       "      <td>12.93</td>\n",
       "      <td>January</td>\n",
       "      <td>First Quarter</td>\n",
       "      <td>No</td>\n",
       "      <td>-0.41</td>\n",
       "      <td>1</td>\n",
       "      <td>No</td>\n",
       "    </tr>\n",
       "    <tr>\n",
       "      <th>2</th>\n",
       "      <td>21.85</td>\n",
       "      <td>59.0</td>\n",
       "      <td>0</td>\n",
       "      <td>No</td>\n",
       "      <td>0</td>\n",
       "      <td>No</td>\n",
       "      <td>No</td>\n",
       "      <td>No</td>\n",
       "      <td>No</td>\n",
       "      <td>No</td>\n",
       "      <td>...</td>\n",
       "      <td>0.00</td>\n",
       "      <td>Wednesday</td>\n",
       "      <td>Female</td>\n",
       "      <td>7.68</td>\n",
       "      <td>June</td>\n",
       "      <td>Third Quarter</td>\n",
       "      <td>No</td>\n",
       "      <td>0.08</td>\n",
       "      <td>1</td>\n",
       "      <td>No</td>\n",
       "    </tr>\n",
       "    <tr>\n",
       "      <th>3</th>\n",
       "      <td>18.49</td>\n",
       "      <td>59.0</td>\n",
       "      <td>1</td>\n",
       "      <td>No</td>\n",
       "      <td>1</td>\n",
       "      <td>No</td>\n",
       "      <td>No</td>\n",
       "      <td>Yes</td>\n",
       "      <td>Yes</td>\n",
       "      <td>No</td>\n",
       "      <td>...</td>\n",
       "      <td>-0.65</td>\n",
       "      <td>Wednesday</td>\n",
       "      <td>Male</td>\n",
       "      <td>7.58</td>\n",
       "      <td>May</td>\n",
       "      <td>Third Quarter</td>\n",
       "      <td>No</td>\n",
       "      <td>-0.32</td>\n",
       "      <td>1</td>\n",
       "      <td>No</td>\n",
       "    </tr>\n",
       "    <tr>\n",
       "      <th>4</th>\n",
       "      <td>19.70</td>\n",
       "      <td>59.0</td>\n",
       "      <td>1</td>\n",
       "      <td>No</td>\n",
       "      <td>0</td>\n",
       "      <td>No</td>\n",
       "      <td>No</td>\n",
       "      <td>No</td>\n",
       "      <td>No</td>\n",
       "      <td>No</td>\n",
       "      <td>...</td>\n",
       "      <td>0.00</td>\n",
       "      <td>Monday</td>\n",
       "      <td>Female</td>\n",
       "      <td>7.88</td>\n",
       "      <td>December</td>\n",
       "      <td>New Moon</td>\n",
       "      <td>No</td>\n",
       "      <td>0.00</td>\n",
       "      <td>1</td>\n",
       "      <td>No</td>\n",
       "    </tr>\n",
       "    <tr>\n",
       "      <th>5</th>\n",
       "      <td>20.24</td>\n",
       "      <td>59.0</td>\n",
       "      <td>0</td>\n",
       "      <td>Yes</td>\n",
       "      <td>0</td>\n",
       "      <td>No</td>\n",
       "      <td>No</td>\n",
       "      <td>No</td>\n",
       "      <td>No</td>\n",
       "      <td>No</td>\n",
       "      <td>...</td>\n",
       "      <td>0.00</td>\n",
       "      <td>Tuesday</td>\n",
       "      <td>Female</td>\n",
       "      <td>7.63</td>\n",
       "      <td>January</td>\n",
       "      <td>Third Quarter</td>\n",
       "      <td>No</td>\n",
       "      <td>0.15</td>\n",
       "      <td>1</td>\n",
       "      <td>No</td>\n",
       "    </tr>\n",
       "  </tbody>\n",
       "</table>\n",
       "<p>6 rows × 25 columns</p>\n",
       "</div>"
      ],
      "text/plain": [
       "     bmi   Age  asa_status baseline_cancer  baseline_charlson baseline_cvd  \\\n",
       "0  19.31  59.2           1             Yes                  0           No   \n",
       "1  18.73  59.1           0              No                  0           No   \n",
       "2  21.85  59.0           0              No                  0           No   \n",
       "3  18.49  59.0           1              No                  1           No   \n",
       "4  19.70  59.0           1              No                  0           No   \n",
       "5  20.24  59.0           0             Yes                  0           No   \n",
       "\n",
       "  baseline_dementia baseline_diabetes baseline_digestive baseline_osteoart  \\\n",
       "0                No                No                 No                No   \n",
       "1                No                No                 No                No   \n",
       "2                No                No                 No                No   \n",
       "3                No               Yes                Yes                No   \n",
       "4                No                No                 No                No   \n",
       "5                No                No                 No                No   \n",
       "\n",
       "   ... complication_rsi        dow  gender   hour     month      moonphase  \\\n",
       "0  ...            -0.57   Thursday  Female   7.63      July  First Quarter   \n",
       "1  ...             0.21     Monday  Female  12.93   January  First Quarter   \n",
       "2  ...             0.00  Wednesday  Female   7.68      June  Third Quarter   \n",
       "3  ...            -0.65  Wednesday    Male   7.58       May  Third Quarter   \n",
       "4  ...             0.00     Monday  Female   7.88  December       New Moon   \n",
       "5  ...             0.00    Tuesday  Female   7.63   January  Third Quarter   \n",
       "\n",
       "  mort30 mortality_rsi  race complication  \n",
       "0     No         -0.43     1           No  \n",
       "1     No         -0.41     1           No  \n",
       "2     No          0.08     1           No  \n",
       "3     No         -0.32     1           No  \n",
       "4     No          0.00     1           No  \n",
       "5     No          0.15     1           No  \n",
       "\n",
       "[6 rows x 25 columns]"
      ]
     },
     "execution_count": 4,
     "metadata": {},
     "output_type": "execute_result"
    }
   ],
   "source": [
    "df.head(6)"
   ]
  },
  {
   "cell_type": "code",
   "execution_count": 5,
   "id": "f086461a",
   "metadata": {},
   "outputs": [
    {
     "data": {
      "text/plain": [
       "(14635, 25)"
      ]
     },
     "execution_count": 5,
     "metadata": {},
     "output_type": "execute_result"
    }
   ],
   "source": [
    "df.shape"
   ]
  },
  {
   "cell_type": "markdown",
   "id": "5df5dd63",
   "metadata": {},
   "source": [
    "* There are 14635 rows and 25 columns in the dataset.\n",
    "* The first 24 columns represent the features and the last column represent the target/label."
   ]
  },
  {
   "cell_type": "markdown",
   "id": "62e5113b",
   "metadata": {},
   "source": [
    "## Exploratory Data Analysis\n",
    "* Exploratory Data Analysis or EDA, is an important step to be performed in Data Science projects. \n",
    "* EDA is generally the process of visualising datasets to find out different patterns in the datasets, analyzing the anomalies behaviour of the datasets and building assumptions or hypothesis based on the understanding of the data"
   ]
  },
  {
   "cell_type": "code",
   "execution_count": 6,
   "id": "96bc6b8e",
   "metadata": {},
   "outputs": [
    {
     "data": {
      "text/html": [
       "<div>\n",
       "<style scoped>\n",
       "    .dataframe tbody tr th:only-of-type {\n",
       "        vertical-align: middle;\n",
       "    }\n",
       "\n",
       "    .dataframe tbody tr th {\n",
       "        vertical-align: top;\n",
       "    }\n",
       "\n",
       "    .dataframe thead th {\n",
       "        text-align: right;\n",
       "    }\n",
       "</style>\n",
       "<table border=\"1\" class=\"dataframe\">\n",
       "  <thead>\n",
       "    <tr style=\"text-align: right;\">\n",
       "      <th></th>\n",
       "      <th>bmi</th>\n",
       "      <th>Age</th>\n",
       "      <th>asa_status</th>\n",
       "      <th>baseline_charlson</th>\n",
       "      <th>ahrq_ccs</th>\n",
       "      <th>ccsComplicationRate</th>\n",
       "      <th>ccsMort30Rate</th>\n",
       "      <th>complication_rsi</th>\n",
       "      <th>hour</th>\n",
       "      <th>mortality_rsi</th>\n",
       "      <th>race</th>\n",
       "    </tr>\n",
       "  </thead>\n",
       "  <tbody>\n",
       "    <tr>\n",
       "      <th>count</th>\n",
       "      <td>14635.000000</td>\n",
       "      <td>14635.000000</td>\n",
       "      <td>14635.000000</td>\n",
       "      <td>14635.000000</td>\n",
       "      <td>14635.000000</td>\n",
       "      <td>14635.000000</td>\n",
       "      <td>14635.000000</td>\n",
       "      <td>14635.000000</td>\n",
       "      <td>14635.000000</td>\n",
       "      <td>14635.000000</td>\n",
       "      <td>14635.000000</td>\n",
       "    </tr>\n",
       "    <tr>\n",
       "      <th>mean</th>\n",
       "      <td>31.295642</td>\n",
       "      <td>63.205268</td>\n",
       "      <td>0.632320</td>\n",
       "      <td>0.977520</td>\n",
       "      <td>7.428493</td>\n",
       "      <td>0.133570</td>\n",
       "      <td>0.004447</td>\n",
       "      <td>-0.699044</td>\n",
       "      <td>10.171613</td>\n",
       "      <td>-0.836712</td>\n",
       "      <td>0.919440</td>\n",
       "    </tr>\n",
       "    <tr>\n",
       "      <th>std</th>\n",
       "      <td>8.152709</td>\n",
       "      <td>18.088191</td>\n",
       "      <td>0.539952</td>\n",
       "      <td>1.758355</td>\n",
       "      <td>6.949455</td>\n",
       "      <td>0.088402</td>\n",
       "      <td>0.004579</td>\n",
       "      <td>1.339394</td>\n",
       "      <td>2.659881</td>\n",
       "      <td>1.194111</td>\n",
       "      <td>0.364663</td>\n",
       "    </tr>\n",
       "    <tr>\n",
       "      <th>min</th>\n",
       "      <td>2.150000</td>\n",
       "      <td>6.100000</td>\n",
       "      <td>0.000000</td>\n",
       "      <td>0.000000</td>\n",
       "      <td>0.000000</td>\n",
       "      <td>0.016118</td>\n",
       "      <td>0.000000</td>\n",
       "      <td>-4.720000</td>\n",
       "      <td>6.070000</td>\n",
       "      <td>-3.820000</td>\n",
       "      <td>0.000000</td>\n",
       "    </tr>\n",
       "    <tr>\n",
       "      <th>25%</th>\n",
       "      <td>26.510000</td>\n",
       "      <td>51.500000</td>\n",
       "      <td>0.000000</td>\n",
       "      <td>0.000000</td>\n",
       "      <td>0.000000</td>\n",
       "      <td>0.081977</td>\n",
       "      <td>0.001962</td>\n",
       "      <td>-1.970000</td>\n",
       "      <td>7.820000</td>\n",
       "      <td>-2.250000</td>\n",
       "      <td>1.000000</td>\n",
       "    </tr>\n",
       "    <tr>\n",
       "      <th>50%</th>\n",
       "      <td>28.980000</td>\n",
       "      <td>59.700000</td>\n",
       "      <td>1.000000</td>\n",
       "      <td>0.000000</td>\n",
       "      <td>6.000000</td>\n",
       "      <td>0.105720</td>\n",
       "      <td>0.002959</td>\n",
       "      <td>-0.580000</td>\n",
       "      <td>9.120000</td>\n",
       "      <td>-0.640000</td>\n",
       "      <td>1.000000</td>\n",
       "    </tr>\n",
       "    <tr>\n",
       "      <th>75%</th>\n",
       "      <td>35.295000</td>\n",
       "      <td>74.700000</td>\n",
       "      <td>1.000000</td>\n",
       "      <td>2.000000</td>\n",
       "      <td>13.000000</td>\n",
       "      <td>0.183370</td>\n",
       "      <td>0.007398</td>\n",
       "      <td>0.000000</td>\n",
       "      <td>12.050000</td>\n",
       "      <td>0.000000</td>\n",
       "      <td>1.000000</td>\n",
       "    </tr>\n",
       "    <tr>\n",
       "      <th>max</th>\n",
       "      <td>92.590000</td>\n",
       "      <td>90.000000</td>\n",
       "      <td>2.000000</td>\n",
       "      <td>13.000000</td>\n",
       "      <td>21.000000</td>\n",
       "      <td>0.466129</td>\n",
       "      <td>0.016673</td>\n",
       "      <td>12.560000</td>\n",
       "      <td>18.920000</td>\n",
       "      <td>4.400000</td>\n",
       "      <td>2.000000</td>\n",
       "    </tr>\n",
       "  </tbody>\n",
       "</table>\n",
       "</div>"
      ],
      "text/plain": [
       "                bmi           Age    asa_status  baseline_charlson  \\\n",
       "count  14635.000000  14635.000000  14635.000000       14635.000000   \n",
       "mean      31.295642     63.205268      0.632320           0.977520   \n",
       "std        8.152709     18.088191      0.539952           1.758355   \n",
       "min        2.150000      6.100000      0.000000           0.000000   \n",
       "25%       26.510000     51.500000      0.000000           0.000000   \n",
       "50%       28.980000     59.700000      1.000000           0.000000   \n",
       "75%       35.295000     74.700000      1.000000           2.000000   \n",
       "max       92.590000     90.000000      2.000000          13.000000   \n",
       "\n",
       "           ahrq_ccs  ccsComplicationRate  ccsMort30Rate  complication_rsi  \\\n",
       "count  14635.000000         14635.000000   14635.000000      14635.000000   \n",
       "mean       7.428493             0.133570       0.004447         -0.699044   \n",
       "std        6.949455             0.088402       0.004579          1.339394   \n",
       "min        0.000000             0.016118       0.000000         -4.720000   \n",
       "25%        0.000000             0.081977       0.001962         -1.970000   \n",
       "50%        6.000000             0.105720       0.002959         -0.580000   \n",
       "75%       13.000000             0.183370       0.007398          0.000000   \n",
       "max       21.000000             0.466129       0.016673         12.560000   \n",
       "\n",
       "               hour  mortality_rsi          race  \n",
       "count  14635.000000   14635.000000  14635.000000  \n",
       "mean      10.171613      -0.836712      0.919440  \n",
       "std        2.659881       1.194111      0.364663  \n",
       "min        6.070000      -3.820000      0.000000  \n",
       "25%        7.820000      -2.250000      1.000000  \n",
       "50%        9.120000      -0.640000      1.000000  \n",
       "75%       12.050000       0.000000      1.000000  \n",
       "max       18.920000       4.400000      2.000000  "
      ]
     },
     "execution_count": 6,
     "metadata": {},
     "output_type": "execute_result"
    }
   ],
   "source": [
    "# for descriptive statistics of the data \n",
    "df.describe()"
   ]
  },
  {
   "cell_type": "markdown",
   "id": "db9f91cd",
   "metadata": {},
   "source": [
    "### Missing Value Analysis"
   ]
  },
  {
   "cell_type": "code",
   "execution_count": 7,
   "id": "3ec8fece",
   "metadata": {},
   "outputs": [
    {
     "data": {
      "text/plain": [
       "Series([], dtype: int64)"
      ]
     },
     "execution_count": 7,
     "metadata": {},
     "output_type": "execute_result"
    }
   ],
   "source": [
    "df.isnull().sum()[df.isnull().sum() > 0]"
   ]
  },
  {
   "cell_type": "markdown",
   "id": "9a81b3a2",
   "metadata": {},
   "source": [
    "There are no missing values available in the data "
   ]
  },
  {
   "cell_type": "markdown",
   "id": "c15d8651",
   "metadata": {},
   "source": [
    "### Duplicate Values"
   ]
  },
  {
   "cell_type": "code",
   "execution_count": 8,
   "id": "6f7b6544",
   "metadata": {},
   "outputs": [
    {
     "data": {
      "text/plain": [
       "False    11733\n",
       "True      2902\n",
       "Name: count, dtype: int64"
      ]
     },
     "execution_count": 8,
     "metadata": {},
     "output_type": "execute_result"
    }
   ],
   "source": [
    "df.duplicated().value_counts()"
   ]
  },
  {
   "cell_type": "markdown",
   "id": "e766218e",
   "metadata": {},
   "source": [
    "* There are 2902 dupilicate records present in the data."
   ]
  },
  {
   "cell_type": "code",
   "execution_count": 9,
   "id": "5f78c5af",
   "metadata": {},
   "outputs": [
    {
     "data": {
      "text/plain": [
       "(11733, 25)"
      ]
     },
     "execution_count": 9,
     "metadata": {},
     "output_type": "execute_result"
    }
   ],
   "source": [
    "df = df.drop_duplicates()\n",
    "df.shape"
   ]
  },
  {
   "cell_type": "markdown",
   "id": "ca910e37",
   "metadata": {},
   "source": [
    "* Duplicate values are removed from the data to ensure accuracy and avoid skewing results by eliminating redundant information."
   ]
  },
  {
   "cell_type": "markdown",
   "id": "8877e337",
   "metadata": {},
   "source": [
    "### Checking Datatype of all variables"
   ]
  },
  {
   "cell_type": "code",
   "execution_count": 10,
   "id": "89fe2689",
   "metadata": {},
   "outputs": [
    {
     "name": "stdout",
     "output_type": "stream",
     "text": [
      "<class 'pandas.core.frame.DataFrame'>\n",
      "Index: 11733 entries, 0 to 14634\n",
      "Data columns (total 25 columns):\n",
      " #   Column               Non-Null Count  Dtype  \n",
      "---  ------               --------------  -----  \n",
      " 0   bmi                  11733 non-null  float64\n",
      " 1   Age                  11733 non-null  float64\n",
      " 2   asa_status           11733 non-null  int64  \n",
      " 3   baseline_cancer      11733 non-null  object \n",
      " 4   baseline_charlson    11733 non-null  int64  \n",
      " 5   baseline_cvd         11733 non-null  object \n",
      " 6   baseline_dementia    11733 non-null  object \n",
      " 7   baseline_diabetes    11733 non-null  object \n",
      " 8   baseline_digestive   11733 non-null  object \n",
      " 9   baseline_osteoart    11733 non-null  object \n",
      " 10  baseline_psych       11733 non-null  object \n",
      " 11  baseline_pulmonary   11733 non-null  object \n",
      " 12  ahrq_ccs             11733 non-null  int64  \n",
      " 13  ccsComplicationRate  11733 non-null  float64\n",
      " 14  ccsMort30Rate        11733 non-null  float64\n",
      " 15  complication_rsi     11733 non-null  float64\n",
      " 16  dow                  11733 non-null  object \n",
      " 17  gender               11733 non-null  object \n",
      " 18  hour                 11733 non-null  float64\n",
      " 19  month                11733 non-null  object \n",
      " 20  moonphase            11733 non-null  object \n",
      " 21  mort30               11733 non-null  object \n",
      " 22  mortality_rsi        11733 non-null  float64\n",
      " 23  race                 11733 non-null  int64  \n",
      " 24  complication         11733 non-null  object \n",
      "dtypes: float64(7), int64(4), object(14)\n",
      "memory usage: 2.3+ MB\n"
     ]
    }
   ],
   "source": [
    "df.info()"
   ]
  },
  {
   "cell_type": "markdown",
   "id": "cf5888c3",
   "metadata": {},
   "source": [
    "### Let's see how many Object type features are actually Categorical"
   ]
  },
  {
   "cell_type": "code",
   "execution_count": 11,
   "id": "f6c965af",
   "metadata": {},
   "outputs": [
    {
     "data": {
      "text/plain": [
       "baseline_cancer        2\n",
       "baseline_cvd           2\n",
       "baseline_dementia      2\n",
       "baseline_diabetes      2\n",
       "baseline_digestive     2\n",
       "baseline_osteoart      2\n",
       "baseline_psych         2\n",
       "baseline_pulmonary     2\n",
       "dow                    5\n",
       "gender                 2\n",
       "month                 12\n",
       "moonphase              4\n",
       "mort30                 2\n",
       "complication           2\n",
       "dtype: int64"
      ]
     },
     "execution_count": 11,
     "metadata": {},
     "output_type": "execute_result"
    }
   ],
   "source": [
    "df.select_dtypes('object').apply(pd.Series.nunique , axis = 0)"
   ]
  },
  {
   "cell_type": "markdown",
   "id": "162cf33f",
   "metadata": {},
   "source": [
    "### Variables which are continuous"
   ]
  },
  {
   "cell_type": "code",
   "execution_count": 12,
   "id": "b0ca2e09",
   "metadata": {},
   "outputs": [
    {
     "data": {
      "text/plain": [
       "['bmi',\n",
       " 'Age',\n",
       " 'asa_status',\n",
       " 'baseline_charlson',\n",
       " 'ahrq_ccs',\n",
       " 'ccsComplicationRate',\n",
       " 'ccsMort30Rate',\n",
       " 'complication_rsi',\n",
       " 'hour',\n",
       " 'mortality_rsi',\n",
       " 'race']"
      ]
     },
     "execution_count": 12,
     "metadata": {},
     "output_type": "execute_result"
    }
   ],
   "source": [
    "Continuous_Variables  = []\n",
    "for var in df.columns[:]:\n",
    "    if (df[var].dtypes == 'int64') | (df[var].dtypes == 'float64'):\n",
    "        Continuous_Variables.append(var)\n",
    "Continuous_Variables        "
   ]
  },
  {
   "cell_type": "markdown",
   "id": "1c0d7dc9",
   "metadata": {},
   "source": [
    "### Box Plot"
   ]
  },
  {
   "cell_type": "code",
   "execution_count": 13,
   "id": "59f264d3",
   "metadata": {},
   "outputs": [
    {
     "data": {
      "text/plain": [
       "<AxesSubplot:>"
      ]
     },
     "execution_count": 13,
     "metadata": {},
     "output_type": "execute_result"
    },
    {
     "data": {
      "image/png": "[encoded data removed]",
      "text/plain": [
       "<Figure size 1440x720 with 1 Axes>"
      ]
     },
     "metadata": {
      "needs_background": "light"
     },
     "output_type": "display_data"
    }
   ],
   "source": [
    "plt.figure(figsize=(20 , 10))\n",
    "df.boxplot()"
   ]
  },
  {
   "cell_type": "markdown",
   "id": "d2c3037e",
   "metadata": {},
   "source": [
    "### Univariate Analysis"
   ]
  },
  {
   "cell_type": "code",
   "execution_count": 14,
   "id": "be8c1c3e",
   "metadata": {},
   "outputs": [
    {
     "data": {
      "image/png": "[encoded data removed]",
      "text/plain": [
       "<Figure size 432x360 with 1 Axes>"
      ]
     },
     "metadata": {
      "needs_background": "light"
     },
     "output_type": "display_data"
    }
   ],
   "source": [
    "fig, ax1 = plt.subplots(figsize=(6,5))\n",
    "graph = sns.countplot(ax=ax1,x='complication', data=df)\n",
    "graph.set_xticklabels(graph.get_xticklabels(),rotation=90)\n",
    "for p in graph.patches:\n",
    "    height = p.get_height()\n",
    "    graph.text(p.get_x()+p.get_width()/2., height + 0.1,height ,ha=\"center\")"
   ]
  },
  {
   "cell_type": "code",
   "execution_count": 15,
   "id": "16ad694f",
   "metadata": {},
   "outputs": [
    {
     "data": {
      "text/plain": [
       "Text(0.5, 1.0, 'Pie Chart')"
      ]
     },
     "execution_count": 15,
     "metadata": {},
     "output_type": "execute_result"
    },
    {
     "data": {
      "image/png": "[encoded data removed]",
      "text/plain": [
       "<Figure size 504x360 with 1 Axes>"
      ]
     },
     "metadata": {},
     "output_type": "display_data"
    }
   ],
   "source": [
    "# Pie Chart\n",
    "plt.figure(figsize=(7 , 5))\n",
    "df.groupby(df.complication).size().plot(kind = 'pie' , autopct = '%.2f' )\n",
    "plt.title(\"Pie Chart\")"
   ]
  },
  {
   "cell_type": "markdown",
   "id": "c13956dc",
   "metadata": {},
   "source": [
    "* In the dataset, 66.55% data corresponds to patients who did not experience postoperative complications (class 0), while a smaller portion (31.45%) represents patients who did have postoperative complications (class 1).\n",
    "* This indicates that there is an imbalance in the dataset, with class 0 being more dominant than the other."
   ]
  },
  {
   "cell_type": "code",
   "execution_count": 16,
   "id": "4b57becf",
   "metadata": {},
   "outputs": [
    {
     "data": {
      "text/plain": [
       "Text(0.5, 1.0, 'Pie Chart')"
      ]
     },
     "execution_count": 16,
     "metadata": {},
     "output_type": "execute_result"
    },
    {
     "data": {
      "image/png": "[encoded data removed]",
      "text/plain": [
       "<Figure size 576x360 with 1 Axes>"
      ]
     },
     "metadata": {},
     "output_type": "display_data"
    }
   ],
   "source": [
    "# Pie Chart\n",
    "plt.figure(figsize=(8, 5) )\n",
    "df.groupby(df.gender).size().plot(kind = 'pie' , autopct = '%.2f')\n",
    "plt.title(\"Pie Chart\")"
   ]
  },
  {
   "cell_type": "markdown",
   "id": "ae0e0c9e",
   "metadata": {},
   "source": [
    "* Female patients are more than male patients in the dataset."
   ]
  },
  {
   "cell_type": "code",
   "execution_count": 17,
   "id": "a67ab0c2",
   "metadata": {},
   "outputs": [
    {
     "data": {
      "text/plain": [
       "<AxesSubplot:xlabel='count', ylabel='mort30'>"
      ]
     },
     "execution_count": 17,
     "metadata": {},
     "output_type": "execute_result"
    },
    {
     "data": {
      "image/png": "[encoded data removed]",
      "text/plain": [
       "<Figure size 1440x2160 with 12 Axes>"
      ]
     },
     "metadata": {
      "needs_background": "light"
     },
     "output_type": "display_data"
    }
   ],
   "source": [
    "fig , axes = plt.subplots(4, 3,figsize = (20 , 30) )\n",
    "sns.countplot(df.moonphase , ax = axes[0 , 0] , palette='viridis' )\n",
    "sns.countplot(df.month ,ax = axes[0 , 1] ,palette='viridis')\n",
    "sns.countplot(df.baseline_cvd , ax = axes[0 , 2] ,palette='viridis')\n",
    "sns.countplot(df.baseline_dementia , ax = axes[1, 0] ,palette='viridis')\n",
    "sns.countplot(df.baseline_cancer , ax = axes[1 , 1] ,palette='viridis')\n",
    "sns.countplot(df.baseline_diabetes , ax = axes[1 , 2] , palette='viridis')\n",
    "sns.countplot(df.baseline_digestive , ax  = axes[2, 0] ,palette='viridis')\n",
    "sns.countplot(df.baseline_osteoart , ax = axes[2 , 1] ,palette='viridis')\n",
    "sns.countplot(df.baseline_psych , ax = axes[2 , 2 ] ,palette='viridis')\n",
    "sns.countplot(df.baseline_pulmonary , ax = axes[3 , 0] , palette='viridis')\n",
    "sns.countplot(df.dow , ax = axes[3 , 1] , palette='viridis')\n",
    "sns.countplot(df.mort30 , ax = axes[3 , 2] , palette='viridis')"
   ]
  },
  {
   "cell_type": "code",
   "execution_count": 18,
   "id": "1dd89dd3",
   "metadata": {},
   "outputs": [
    {
     "data": {
      "text/plain": [
       "<seaborn.axisgrid.FacetGrid at 0x19d46b2daf0>"
      ]
     },
     "execution_count": 18,
     "metadata": {},
     "output_type": "execute_result"
    },
    {
     "data": {
      "image/png": "[encoded data removed]",
      "text/plain": [
       "<Figure size 674.175x432 with 2 Axes>"
      ]
     },
     "metadata": {
      "needs_background": "light"
     },
     "output_type": "display_data"
    }
   ],
   "source": [
    "sns.catplot(x=\"gender\",col=\"complication\",data=df, kind=\"count\",height=6, aspect=.7 , palette='viridis')"
   ]
  },
  {
   "cell_type": "markdown",
   "id": "d138ab64",
   "metadata": {},
   "source": [
    "* The plot above indicates that there is an equal number of male and female patients experiencing post-surgical complications."
   ]
  },
  {
   "cell_type": "code",
   "execution_count": 19,
   "id": "cbb58966",
   "metadata": {},
   "outputs": [
    {
     "data": {
      "text/plain": [
       "<seaborn.axisgrid.FacetGrid at 0x19d46a1fc10>"
      ]
     },
     "execution_count": 19,
     "metadata": {},
     "output_type": "execute_result"
    },
    {
     "data": {
      "image/png": "[encoded data removed]",
      "text/plain": [
       "<Figure size 700.425x432 with 2 Axes>"
      ]
     },
     "metadata": {
      "needs_background": "light"
     },
     "output_type": "display_data"
    }
   ],
   "source": [
    "sns.catplot(x=\"moonphase\",col=\"complication\",data=df, kind=\"count\",height=6, aspect=.7 , palette='viridis')"
   ]
  },
  {
   "cell_type": "markdown",
   "id": "2f81a3c2",
   "metadata": {},
   "source": [
    "* The bar graph indicates he number of patients experiencing complications postoperatively is same for all four moon phases."
   ]
  },
  {
   "cell_type": "code",
   "execution_count": 20,
   "id": "26253591",
   "metadata": {
    "scrolled": true
   },
   "outputs": [
    {
     "data": {
      "text/plain": [
       "<seaborn.axisgrid.FacetGrid at 0x19d5e926d60>"
      ]
     },
     "execution_count": 20,
     "metadata": {},
     "output_type": "execute_result"
    },
    {
     "data": {
      "image/png": "[encoded data removed]",
      "text/plain": [
       "<Figure size 492.2x288 with 2 Axes>"
      ]
     },
     "metadata": {
      "needs_background": "light"
     },
     "output_type": "display_data"
    }
   ],
   "source": [
    "sns.catplot(x=\"dow\",col=\"complication\",data=df, kind=\"count\",height=4, aspect=.7 , palette='viridis')"
   ]
  },
  {
   "cell_type": "code",
   "execution_count": 21,
   "id": "2f39196c",
   "metadata": {},
   "outputs": [
    {
     "data": {
      "text/plain": [
       "<seaborn.axisgrid.FacetGrid at 0x19d5ea57b50>"
      ]
     },
     "execution_count": 21,
     "metadata": {},
     "output_type": "execute_result"
    },
    {
     "data": {
      "image/png": "[encoded data removed]",
      "text/plain": [
       "<Figure size 593x360 with 2 Axes>"
      ]
     },
     "metadata": {
      "needs_background": "light"
     },
     "output_type": "display_data"
    },
    {
     "data": {
      "image/png": "[encoded data removed]",
      "text/plain": [
       "<Figure size 585.125x360 with 2 Axes>"
      ]
     },
     "metadata": {
      "needs_background": "light"
     },
     "output_type": "display_data"
    },
    {
     "data": {
      "image/png": "[encoded data removed]",
      "text/plain": [
       "<Figure size 593.125x360 with 2 Axes>"
      ]
     },
     "metadata": {
      "needs_background": "light"
     },
     "output_type": "display_data"
    },
    {
     "data": {
      "image/png": "[encoded data removed]",
      "text/plain": [
       "<Figure size 570.625x360 with 2 Axes>"
      ]
     },
     "metadata": {
      "needs_background": "light"
     },
     "output_type": "display_data"
    },
    {
     "data": {
      "image/png": "[encoded data removed]",
      "text/plain": [
       "<Figure size 596.375x360 with 2 Axes>"
      ]
     },
     "metadata": {
      "needs_background": "light"
     },
     "output_type": "display_data"
    },
    {
     "data": {
      "image/png": "[encoded data removed]",
      "text/plain": [
       "<Figure size 593x360 with 2 Axes>"
      ]
     },
     "metadata": {
      "needs_background": "light"
     },
     "output_type": "display_data"
    },
    {
     "data": {
      "image/png": "[encoded data removed]",
      "text/plain": [
       "<Figure size 594.75x360 with 2 Axes>"
      ]
     },
     "metadata": {
      "needs_background": "light"
     },
     "output_type": "display_data"
    },
    {
     "data": {
      "image/png": "[encoded data removed]",
      "text/plain": [
       "<Figure size 588.75x360 with 2 Axes>"
      ]
     },
     "metadata": {
      "needs_background": "light"
     },
     "output_type": "display_data"
    },
    {
     "data": {
      "image/png": "[encoded data removed]",
      "text/plain": [
       "<Figure size 556.375x360 with 2 Axes>"
      ]
     },
     "metadata": {
      "needs_background": "light"
     },
     "output_type": "display_data"
    },
    {
     "data": {
      "image/png": "[encoded data removed]",
      "text/plain": [
       "<Figure size 581.125x360 with 2 Axes>"
      ]
     },
     "metadata": {
      "needs_background": "light"
     },
     "output_type": "display_data"
    },
    {
     "data": {
      "image/png": "[encoded data removed]",
      "text/plain": [
       "<Figure size 591.625x360 with 2 Axes>"
      ]
     },
     "metadata": {
      "needs_background": "light"
     },
     "output_type": "display_data"
    },
    {
     "data": {
      "image/png": "[encoded data removed]",
      "text/plain": [
       "<Figure size 602x360 with 2 Axes>"
      ]
     },
     "metadata": {
      "needs_background": "light"
     },
     "output_type": "display_data"
    }
   ],
   "source": [
    "sns.catplot(x=\"dow\",col=\"complication\",data=df, kind=\"count\",height=5, aspect=.7 , palette='viridis' )\n",
    "sns.catplot(x='baseline_cancer',col=\"complication\",data=df, kind=\"count\",height=5, aspect=.7 , palette='viridis' )\n",
    "sns.catplot(x='baseline_charlson',col=\"complication\",data=df, kind=\"count\",height=5, aspect=.7 , palette='viridis')\n",
    "sns.catplot(x='baseline_cvd',col=\"complication\",data=df, kind=\"count\",height=5, aspect=.7 , palette='viridis')\n",
    "sns.catplot(x='baseline_dementia',col=\"complication\",data=df, kind=\"count\",height=5, aspect=.7 , palette='viridis' )\n",
    "sns.catplot(x='baseline_diabetes',col=\"complication\",data=df, kind=\"count\",height=5, aspect=.7 , palette='viridis')\n",
    "sns.catplot(x='baseline_digestive',col=\"complication\",data=df, kind=\"count\",height=5, aspect=.7 , palette='viridis')\n",
    "sns.catplot(x='month',col=\"complication\",data=df, kind=\"count\",height=5, aspect=.7 , palette='viridis' )\n",
    "sns.catplot(x='mort30',col=\"complication\",data=df, kind=\"count\",height=5, aspect=.7 , palette='viridis' )\n",
    "sns.catplot(x='baseline_psych',col=\"complication\",data=df, kind=\"count\",height=5, aspect=.7 , palette='viridis')\n",
    "sns.catplot(x='baseline_osteoart',col=\"complication\",data=df, kind=\"count\",height=5, aspect=.7 , palette='viridis' )\n",
    "sns.catplot(x='baseline_pulmonary',col=\"complication\",data=df, kind=\"count\",height=5, aspect=.7 , palette='viridis' )\n"
   ]
  },
  {
   "cell_type": "code",
   "execution_count": 22,
   "id": "4423c419",
   "metadata": {},
   "outputs": [
    {
     "data": {
      "image/png": "[encoded data removed]",
      "text/plain": [
       "<Figure size 432x288 with 1 Axes>"
      ]
     },
     "metadata": {
      "needs_background": "light"
     },
     "output_type": "display_data"
    }
   ],
   "source": [
    "import seaborn as sns\n",
    "import matplotlib.pyplot as plt\n",
    "\n",
    "\n",
    "# Create distribution plot\n",
    "plt.hist(df.Age, bins=10, edgecolor='black')\n",
    "\n",
    "# Add labels and title\n",
    "plt.xlabel('Age')\n",
    "plt.ylabel('Frequency')\n",
    "plt.title('Distribution of Age')\n",
    "\n",
    "# Show plot\n",
    "plt.show()\n"
   ]
  },
  {
   "cell_type": "code",
   "execution_count": 23,
   "id": "95ac20e2",
   "metadata": {},
   "outputs": [
    {
     "data": {
      "text/plain": [
       "6.1"
      ]
     },
     "execution_count": 23,
     "metadata": {},
     "output_type": "execute_result"
    }
   ],
   "source": [
    "df.Age.min()"
   ]
  },
  {
   "cell_type": "code",
   "execution_count": 24,
   "id": "df675b1f",
   "metadata": {},
   "outputs": [
    {
     "data": {
      "text/plain": [
       "90.0"
      ]
     },
     "execution_count": 24,
     "metadata": {},
     "output_type": "execute_result"
    }
   ],
   "source": [
    "df.Age.max()"
   ]
  },
  {
   "cell_type": "code",
   "execution_count": 25,
   "id": "db297273",
   "metadata": {},
   "outputs": [
    {
     "name": "stdout",
     "output_type": "stream",
     "text": [
      "Patients with complications in Interval 1: 42\n",
      "Patients with complications in Interval 2: 313\n",
      "Patients with complications in Interval 3: 992\n",
      "Patients with complications in Interval 4: 1515\n",
      "Patients with complications in Interval 5: 665\n"
     ]
    }
   ],
   "source": [
    "import pandas as pd\n",
    "\n",
    "data = df.loc[: ,['Age' , 'complication']]\n",
    "# Define intervals\n",
    "intervals = {\n",
    "    'Interval 1': (6, 22),\n",
    "    'Interval 2': (23, 39),\n",
    "    'Interval 3': (40, 56),\n",
    "    'Interval 4': (57, 73),\n",
    "    'Interval 5': (74, 90)\n",
    "}\n",
    "df_1 = pd.DataFrame(data)\n",
    "# Count patients with complications in each interval\n",
    "complication_counts = {}\n",
    "\n",
    "for interval, (start, end) in intervals.items():\n",
    "    patients_in_interval = df_1[(df_1['Age'] >= start) & (df_1['Age'] <= end)]\n",
    "    complication_counts[interval] = patients_in_interval[patients_in_interval['complication'] == 'Yes'].shape[0]\n",
    "\n",
    "for interval, count in complication_counts.items():\n",
    "    print(f\"Patients with complications in {interval}: {count}\")\n"
   ]
  },
  {
   "cell_type": "markdown",
   "id": "e51332bc",
   "metadata": {},
   "source": [
    "* It's possible that individuals aged between 57 to 73 years have a higher risk of experiencing complications."
   ]
  },
  {
   "cell_type": "markdown",
   "id": "f80b4f32",
   "metadata": {},
   "source": [
    "### Converting Object Data type to numeric"
   ]
  },
  {
   "cell_type": "code",
   "execution_count": 26,
   "id": "a7d3395c",
   "metadata": {},
   "outputs": [
    {
     "data": {
      "text/plain": [
       "baseline_cancer       object\n",
       "baseline_cvd          object\n",
       "baseline_dementia     object\n",
       "baseline_diabetes     object\n",
       "baseline_digestive    object\n",
       "baseline_osteoart     object\n",
       "baseline_psych        object\n",
       "baseline_pulmonary    object\n",
       "dow                   object\n",
       "gender                object\n",
       "month                 object\n",
       "moonphase             object\n",
       "mort30                object\n",
       "complication          object\n",
       "dtype: object"
      ]
     },
     "execution_count": 26,
     "metadata": {},
     "output_type": "execute_result"
    }
   ],
   "source": [
    "df.dtypes[df.dtypes == 'object']"
   ]
  },
  {
   "cell_type": "code",
   "execution_count": 27,
   "id": "beb4292a",
   "metadata": {},
   "outputs": [],
   "source": [
    "df.complication.replace({\"Yes\" :1 ,  \"No\" : 0} , inplace = True)\n",
    "df.baseline_cancer.replace({\"Yes\" :1 ,  \"No\" : 0} , inplace = True)\n",
    "df.complication.replace({\"Yes\" :1 ,  \"No\" : 0} , inplace = True)\n",
    "df.baseline_cvd.replace({\"Yes\" :1 ,  \"No\" : 0} , inplace = True)\n",
    "df.baseline_dementia.replace({\"Yes\" :1 ,  \"No\" : 0} , inplace = True)\n",
    "df.baseline_diabetes.replace({\"Yes\" :1 ,  \"No\" : 0} , inplace = True)\n",
    "df.baseline_digestive.replace({\"Yes\" :1 ,  \"No\" : 0} , inplace = True)\n",
    "df.baseline_osteoart.replace({\"Yes\" :1 ,  \"No\" : 0} , inplace = True)\n",
    "df.baseline_osteoart.replace({\"Yes\" :1 ,  \"No\" : 0} , inplace = True)\n",
    "df.baseline_pulmonary.replace({\"Yes\" :1 ,  \"No\" : 0} , inplace = True)\n",
    "df.gender.replace({\"Male\" : 1 , \"Female\" : 0} , inplace = True)\n",
    "df.baseline_psych.replace({\"Yes\" :1 ,  \"No\" : 0} , inplace = True)\n",
    "df.dow.replace({\"Monday\" :0 , \"Tuesday\": 1 , \"Wednesday\" : 2 , \"Thursday\" : 3,  \"Friday\" : 4} , inplace = True)\n",
    "df.month.replace({\"January\" : 0 ,  \"February\" : 1, \"March\" : 2, \"April\" : 3,  \"May\" : 4, \"June\" : 5 ,\"July\" : 6,\"August\" : 7,\"September\": 8 , \"October\" : 9 , \"November\" : 10, \"December\" : 11} , inplace = True)\n",
    "df.moonphase.replace({\"New Moon\" : 0 ,  \"First Quarter\" : 1 ,\"Full moon\" :2 , \"Third Quarter\" :3} , inplace = True)\n",
    "df.mort30.replace({\"Yes\" :1 ,  \"No\" : 0} , inplace = True)"
   ]
  },
  {
   "cell_type": "markdown",
   "id": "8002fcad",
   "metadata": {},
   "source": [
    "* The replace function is used to convert non-numeric data to numeric since there some variable which are ordinal"
   ]
  },
  {
   "cell_type": "code",
   "execution_count": 28,
   "id": "6c805639",
   "metadata": {},
   "outputs": [
    {
     "data": {
      "text/plain": [
       "Series([], dtype: object)"
      ]
     },
     "execution_count": 28,
     "metadata": {},
     "output_type": "execute_result"
    }
   ],
   "source": [
    "df.dtypes[df.dtypes == 'object']"
   ]
  },
  {
   "cell_type": "markdown",
   "id": "ef280596",
   "metadata": {},
   "source": [
    "### Feature Selection\n",
    "* Feature selection is the process of choosing the most relevant features (or variables) from a dataset to improve model performance and efficiency. \n",
    "* It involves identifying and keeping the features that contribute the most to predicting the target variable while discarding redundant or irrelevant ones, thus simplifying the model and reducing overfitting."
   ]
  },
  {
   "cell_type": "code",
   "execution_count": 59,
   "id": "ed84cd80",
   "metadata": {},
   "outputs": [],
   "source": [
    "# Using Random Forest classifier\n",
    "feat_imp = pd.DataFrame()\n",
    "feat_imp['Features'] = df.iloc[: , 0: -1].columns\n",
    "feat_imp['Score']      = rf.feature_importances_\n",
    "feat_imp = feat_imp.sort_values('Score' ,    ascending=False)\n",
    "feat_imp.Score[0:10].sum()\n",
    "l1 = list(feat_imp.Features[0:10])\n",
    "Final_Variables = l1.append('complication')"
   ]
  },
  {
   "cell_type": "markdown",
   "id": "4499fc1a",
   "metadata": {},
   "source": [
    "* The random forest classifier is employed to select important features.\n",
    "* Initially, the model is constructed using all the available data. Surprisingly, there isn't much of a difference in the model's performance when using all 24 features compared to using only 8 features."
   ]
  },
  {
   "cell_type": "code",
   "execution_count": 60,
   "id": "ef2887e0",
   "metadata": {},
   "outputs": [
    {
     "data": {
      "text/plain": [
       "0.9546409868512122"
      ]
     },
     "execution_count": 60,
     "metadata": {},
     "output_type": "execute_result"
    }
   ],
   "source": [
    "feat_imp.Score[0:8].sum()"
   ]
  },
  {
   "cell_type": "markdown",
   "id": "e7f3a01a",
   "metadata": {},
   "source": [
    "* Approximately 95% of the variation in the target variable can be accounted for by 8 out of the 24 features."
   ]
  },
  {
   "cell_type": "code",
   "execution_count": 61,
   "id": "fb21b7d4",
   "metadata": {},
   "outputs": [
    {
     "data": {
      "text/plain": [
       "['Age',\n",
       " 'complication_rsi',\n",
       " 'ccsComplicationRate',\n",
       " 'ccsMort30Rate',\n",
       " 'bmi',\n",
       " 'mortality_rsi',\n",
       " 'ahrq_ccs',\n",
       " 'asa_status']"
      ]
     },
     "execution_count": 61,
     "metadata": {},
     "output_type": "execute_result"
    }
   ],
   "source": [
    "# Significant variables\n",
    "list(feat_imp.Features[0:8])    "
   ]
  },
  {
   "cell_type": "code",
   "execution_count": 62,
   "id": "485e3d24",
   "metadata": {},
   "outputs": [],
   "source": [
    "df1 = df"
   ]
  },
  {
   "cell_type": "code",
   "execution_count": 63,
   "id": "060d6f88",
   "metadata": {},
   "outputs": [
    {
     "data": {
      "text/plain": [
       "(11733, 11)"
      ]
     },
     "execution_count": 63,
     "metadata": {},
     "output_type": "execute_result"
    }
   ],
   "source": [
    "df = df1.loc[: , l1]\n",
    "df.shape"
   ]
  },
  {
   "cell_type": "markdown",
   "id": "fdb727c5",
   "metadata": {},
   "source": [
    "## Sampling"
   ]
  },
  {
   "cell_type": "code",
   "execution_count": 64,
   "id": "85f2c663",
   "metadata": {},
   "outputs": [],
   "source": [
    "from sklearn.model_selection import train_test_split\n",
    "df_train , df_test = train_test_split(df , test_size=0.2 , random_state=42)"
   ]
  },
  {
   "cell_type": "code",
   "execution_count": 65,
   "id": "d2aa0270",
   "metadata": {},
   "outputs": [
    {
     "data": {
      "text/plain": [
       "complication\n",
       "0    6416\n",
       "1    2970\n",
       "Name: count, dtype: int64"
      ]
     },
     "execution_count": 65,
     "metadata": {},
     "output_type": "execute_result"
    }
   ],
   "source": [
    "df_train.complication.value_counts()"
   ]
  },
  {
   "cell_type": "code",
   "execution_count": 66,
   "id": "cabf0dd3",
   "metadata": {},
   "outputs": [
    {
     "data": {
      "text/plain": [
       "(2970, 11)"
      ]
     },
     "execution_count": 66,
     "metadata": {},
     "output_type": "execute_result"
    }
   ],
   "source": [
    "df_os = df_train[df_train.complication == 1]     \n",
    "df_os.shape"
   ]
  },
  {
   "cell_type": "code",
   "execution_count": 67,
   "id": "8f608025",
   "metadata": {},
   "outputs": [],
   "source": [
    "df_train1 = pd.concat([df_train , df_os])    # Oversampling"
   ]
  },
  {
   "cell_type": "markdown",
   "id": "905d60b2",
   "metadata": {},
   "source": [
    "* From the exploratory data analysis (EDA), it's evident that there is a class imbalance in the dataset. \n",
    "* Specifically, the class representing patients suffering from post-surgical complications (Class 1) is observed to be underrepresented. \n",
    "* To address this, oversampling is carried out for Class 1, wherein duplicate records of Class 1 instances are added to the training data."
   ]
  },
  {
   "cell_type": "code",
   "execution_count": 68,
   "id": "29a39f58",
   "metadata": {},
   "outputs": [
    {
     "data": {
      "text/plain": [
       "complication\n",
       "0    6416\n",
       "1    5940\n",
       "Name: count, dtype: int64"
      ]
     },
     "execution_count": 68,
     "metadata": {},
     "output_type": "execute_result"
    }
   ],
   "source": [
    "df_train1.complication.value_counts()"
   ]
  },
  {
   "cell_type": "code",
   "execution_count": 69,
   "id": "f1fe868a",
   "metadata": {},
   "outputs": [],
   "source": [
    "df_train = df_train1"
   ]
  },
  {
   "cell_type": "code",
   "execution_count": 70,
   "id": "3940633e",
   "metadata": {},
   "outputs": [],
   "source": [
    "df_train_x = df_train.iloc[: , 0:-1]\n",
    "df_train_y = df_train.iloc[: , -1]\n",
    "df_test_x = df_test.iloc[: , 0:-1]\n",
    "df_test_y = df_test.iloc[: , -1]"
   ]
  },
  {
   "cell_type": "code",
   "execution_count": 71,
   "id": "eddaf7d0",
   "metadata": {},
   "outputs": [
    {
     "name": "stdout",
     "output_type": "stream",
     "text": [
      "(11733, 11) (12356, 10) (12356,) (2347, 10) (2347,)\n"
     ]
    }
   ],
   "source": [
    "print(df.shape , df_train_x.shape , df_train_y.shape , df_test_x.shape , df_test_y.shape)"
   ]
  },
  {
   "cell_type": "markdown",
   "id": "18ebb1f6",
   "metadata": {},
   "source": [
    "### Scaling the X variables\n",
    "* As there are different feature variables in X, it can have a possibility of giving more importance to the variables having greater range and give less important to variables having small range which is not suitable.\n",
    "* So to overcome this problem scaling is done on the all variables in X, as it will bring all the variables in a same range."
   ]
  },
  {
   "cell_type": "code",
   "execution_count": 72,
   "id": "a316b426",
   "metadata": {},
   "outputs": [],
   "source": [
    "from sklearn.preprocessing import StandardScaler\n",
    "sc = StandardScaler()\n",
    "df_train_x = sc.fit_transform(df_train_x)\n",
    "df_test_x = sc.transform(df_test_x)"
   ]
  },
  {
   "cell_type": "markdown",
   "id": "9b19db0f",
   "metadata": {},
   "source": [
    "## Model Building"
   ]
  },
  {
   "cell_type": "markdown",
   "id": "cb8694f1",
   "metadata": {},
   "source": [
    "## Logistics Regression"
   ]
  },
  {
   "cell_type": "code",
   "execution_count": 73,
   "id": "0efc3f80",
   "metadata": {},
   "outputs": [
    {
     "data": {
      "text/plain": [
       "LogisticRegression(class_weight='balanced')"
      ]
     },
     "execution_count": 73,
     "metadata": {},
     "output_type": "execute_result"
    }
   ],
   "source": [
    "logreg = LogisticRegression(class_weight='balanced')\n",
    "logreg.fit(df_train_x , df_train_y)"
   ]
  },
  {
   "cell_type": "code",
   "execution_count": 74,
   "id": "bdcf3e4e",
   "metadata": {},
   "outputs": [],
   "source": [
    "# Prediction on train data set\n",
    "pred_logreg_train= logreg.predict(df_train_x)"
   ]
  },
  {
   "cell_type": "code",
   "execution_count": 75,
   "id": "41cea511",
   "metadata": {},
   "outputs": [],
   "source": [
    "Acc_tr  = accuracy_score(df_train_y , pred_logreg_train)\n",
    "recall_tr    = recall_score(df_train_y , pred_logreg_train)\n",
    "precision_tr = precision_score(df_train_y , pred_logreg_train)\n",
    "f1_ratio_tr  = f1_score(df_train_y , pred_logreg_train)"
   ]
  },
  {
   "cell_type": "code",
   "execution_count": 76,
   "id": "084589e6",
   "metadata": {},
   "outputs": [
    {
     "name": "stdout",
     "output_type": "stream",
     "text": [
      "Accuracy     =  0.699336354807381 \n",
      "Recall_score =  0.6599326599326599 \n",
      "Precision    =  0.6981300089047195 \n",
      "F1_ratio     =  0.6784941583729986\n"
     ]
    }
   ],
   "source": [
    "print(\"Accuracy     = \" , Acc_tr , \"\\nRecall_score = \" , recall_tr ,\"\\nPrecision    = \" , precision_tr , \"\\nF1_ratio     = \" , f1_ratio_tr)"
   ]
  },
  {
   "cell_type": "markdown",
   "id": "abb9071f",
   "metadata": {},
   "source": [
    "* The logistic regression model shows no signs of overfitting on the training data.\n",
    "* To verify this, the model's performance is checked on the same training data to make sure it's not just memorizing the examples it has seen before."
   ]
  },
  {
   "cell_type": "code",
   "execution_count": 77,
   "id": "5b456532",
   "metadata": {},
   "outputs": [
    {
     "data": {
      "image/png": "[encoded data removed]",
      "text/plain": [
       "<Figure size 432x288 with 1 Axes>"
      ]
     },
     "metadata": {
      "needs_background": "light"
     },
     "output_type": "display_data"
    },
    {
     "name": "stdout",
     "output_type": "stream",
     "text": [
      "Classification report:\n",
      "              precision    recall  f1-score   support\n",
      "\n",
      "           0       0.83      0.73      0.78      1627\n",
      "           1       0.52      0.66      0.58       720\n",
      "\n",
      "    accuracy                           0.71      2347\n",
      "   macro avg       0.67      0.69      0.68      2347\n",
      "weighted avg       0.73      0.71      0.72      2347\n",
      "\n",
      "Accuracy of the model:  0.7072858968896464\n"
     ]
    }
   ],
   "source": [
    "# Prediction on train data set\n",
    "pred_logreg_test= logreg.predict(df_test_x)\n",
    "cfm=confusion_matrix(df_test_y,pred_logreg_test)\n",
    "sns.heatmap(cfm, annot=True, fmt='g', cbar=False, cmap='BuPu')\n",
    "plt.xlabel('Predicted Values')\n",
    "plt.ylabel('Actual Values')\n",
    "plt.show()\n",
    "\n",
    "\n",
    "print(\"Classification report:\")\n",
    "\n",
    "print(classification_report(df_test_y,pred_logreg_test))\n",
    "\n",
    "acc=accuracy_score(df_test_y,pred_logreg_test)\n",
    "print(\"Accuracy of the model: \",acc)"
   ]
  },
  {
   "cell_type": "code",
   "execution_count": 78,
   "id": "15ffad46",
   "metadata": {},
   "outputs": [],
   "source": [
    "# Append metrics to the DataFrame\n",
    "performance_metrics = pd.DataFrame()\n",
    "performance_metrics = performance_metrics._append({\"Model\": \"Logistic Regression\", \"Accuracy\": accuracy_score(df_test_y , pred_logreg_test),  \"Recall\":recall_score(df_test_y , pred_logreg_test) ,\"Precision\": precision_score(df_test_y , pred_logreg_test), \"F1 Score\": f1_score(df_test_y , pred_logreg_test)}, ignore_index=True)"
   ]
  },
  {
   "cell_type": "code",
   "execution_count": 79,
   "id": "232ae66a",
   "metadata": {},
   "outputs": [
    {
     "data": {
      "text/html": [
       "<div>\n",
       "<style scoped>\n",
       "    .dataframe tbody tr th:only-of-type {\n",
       "        vertical-align: middle;\n",
       "    }\n",
       "\n",
       "    .dataframe tbody tr th {\n",
       "        vertical-align: top;\n",
       "    }\n",
       "\n",
       "    .dataframe thead th {\n",
       "        text-align: right;\n",
       "    }\n",
       "</style>\n",
       "<table border=\"1\" class=\"dataframe\">\n",
       "  <thead>\n",
       "    <tr style=\"text-align: right;\">\n",
       "      <th></th>\n",
       "      <th>Model</th>\n",
       "      <th>Accuracy</th>\n",
       "      <th>Recall</th>\n",
       "      <th>Precision</th>\n",
       "      <th>F1 Score</th>\n",
       "    </tr>\n",
       "  </thead>\n",
       "  <tbody>\n",
       "    <tr>\n",
       "      <th>0</th>\n",
       "      <td>Logistic Regression</td>\n",
       "      <td>0.707286</td>\n",
       "      <td>0.658333</td>\n",
       "      <td>0.518033</td>\n",
       "      <td>0.579817</td>\n",
       "    </tr>\n",
       "  </tbody>\n",
       "</table>\n",
       "</div>"
      ],
      "text/plain": [
       "                 Model  Accuracy    Recall  Precision  F1 Score\n",
       "0  Logistic Regression  0.707286  0.658333   0.518033  0.579817"
      ]
     },
     "execution_count": 79,
     "metadata": {},
     "output_type": "execute_result"
    }
   ],
   "source": [
    "performance_metrics"
   ]
  },
  {
   "cell_type": "markdown",
   "id": "c026ca4c",
   "metadata": {},
   "source": [
    "## Decision Tree"
   ]
  },
  {
   "cell_type": "code",
   "execution_count": 80,
   "id": "bff5b49e",
   "metadata": {},
   "outputs": [
    {
     "data": {
      "text/plain": [
       "GridSearchCV(estimator=DecisionTreeClassifier(class_weight='balanced'),\n",
       "             param_grid={'criterion': ['gini', 'entropy'],\n",
       "                         'max_depth': range(5, 9),\n",
       "                         'min_samples_split': range(50, 100, 150)})"
      ]
     },
     "execution_count": 80,
     "metadata": {},
     "output_type": "execute_result"
    }
   ],
   "source": [
    "dt = DecisionTreeClassifier(class_weight='balanced')\n",
    "# Hyperparameter tunning\n",
    "search_dict = {\"criterion\" : [\"gini\" ,\"entropy\"] ,\n",
    "              \"max_depth\" : range(5 ,9) , \n",
    "             \"min_samples_split\" : range(50 , 100 , 150 ) }\n",
    "dt_search = GridSearchCV(dt , param_grid= search_dict)\n",
    "dt_search.fit(df_train_x , df_train_y )"
   ]
  },
  {
   "cell_type": "code",
   "execution_count": 81,
   "id": "bee9fbbf",
   "metadata": {},
   "outputs": [
    {
     "data": {
      "text/plain": [
       "{'criterion': 'entropy', 'max_depth': 8, 'min_samples_split': 50}"
      ]
     },
     "execution_count": 81,
     "metadata": {},
     "output_type": "execute_result"
    }
   ],
   "source": [
    "dt_search.best_params_"
   ]
  },
  {
   "cell_type": "code",
   "execution_count": 82,
   "id": "f4fbdbdc",
   "metadata": {},
   "outputs": [],
   "source": [
    "# Prediction on train data set\n",
    "pred_dt_train= dt_search.predict(df_train_x)"
   ]
  },
  {
   "cell_type": "code",
   "execution_count": 83,
   "id": "d551018a",
   "metadata": {},
   "outputs": [],
   "source": [
    "Acc_tr  = accuracy_score(df_train_y , pred_dt_train)\n",
    "recall_tr    = recall_score(df_train_y , pred_dt_train)\n",
    "precision_tr = precision_score(df_train_y , pred_dt_train)\n",
    "f1_ratio_tr  = f1_score(df_train_y , pred_dt_train)\n"
   ]
  },
  {
   "cell_type": "code",
   "execution_count": 84,
   "id": "9b3ee052",
   "metadata": {},
   "outputs": [
    {
     "name": "stdout",
     "output_type": "stream",
     "text": [
      "Accuracy     =  0.8346552282292004 \n",
      "Recall_score =  0.7383838383838384 \n",
      "Precision    =  0.8996923076923077 \n",
      "F1_ratio     =  0.8110957004160887\n"
     ]
    }
   ],
   "source": [
    "print(\"Accuracy     = \" , Acc_tr , \"\\nRecall_score = \" , recall_tr , \"\\nPrecision    = \" , precision_tr , \"\\nF1_ratio     = \" , f1_ratio_tr)"
   ]
  },
  {
   "cell_type": "markdown",
   "id": "02e1ed9e",
   "metadata": {},
   "source": [
    "* The decision tree model shows no signs of overfitting on the training data."
   ]
  },
  {
   "cell_type": "code",
   "execution_count": 85,
   "id": "146a29f1",
   "metadata": {},
   "outputs": [
    {
     "data": {
      "image/png": "[encoded data removed]",
      "text/plain": [
       "<Figure size 432x288 with 1 Axes>"
      ]
     },
     "metadata": {
      "needs_background": "light"
     },
     "output_type": "display_data"
    },
    {
     "name": "stdout",
     "output_type": "stream",
     "text": [
      "Classification report:\n",
      "              precision    recall  f1-score   support\n",
      "\n",
      "           0       0.87      0.89      0.88      1627\n",
      "           1       0.74      0.69      0.71       720\n",
      "\n",
      "    accuracy                           0.83      2347\n",
      "   macro avg       0.80      0.79      0.80      2347\n",
      "weighted avg       0.83      0.83      0.83      2347\n",
      "\n",
      "Accuracy of the model:  0.8308478909245846\n"
     ]
    }
   ],
   "source": [
    "# Prediction on test data set\n",
    "pred_dt_test= dt_search.predict(df_test_x)\n",
    "cfm=confusion_matrix(df_test_y,pred_dt_test)\n",
    "sns.heatmap(cfm, annot=True, fmt='g', cbar=False, cmap='BuPu')\n",
    "plt.xlabel('Predicted Values')\n",
    "plt.ylabel('Actual Values')\n",
    "plt.show()\n",
    "\n",
    "\n",
    "print(\"Classification report:\")\n",
    "\n",
    "print(classification_report(df_test_y,pred_dt_test))\n",
    "\n",
    "acc=accuracy_score(df_test_y,pred_dt_test)\n",
    "print(\"Accuracy of the model: \",acc)"
   ]
  },
  {
   "cell_type": "code",
   "execution_count": 86,
   "id": "1085c631",
   "metadata": {},
   "outputs": [],
   "source": [
    "# Append metrics to the DataFrame\n",
    "performance_metrics = performance_metrics._append({\"Model\": \"Decision tree\",  \"Accuracy\": accuracy_score(df_test_y , pred_dt_test),  \"Recall\":recall_score(df_test_y , pred_dt_test) ,\"Precision\": precision_score(df_test_y , pred_dt_test), \"F1 Score\": f1_score(df_test_y , pred_dt_test)}, ignore_index=True)"
   ]
  },
  {
   "cell_type": "code",
   "execution_count": 87,
   "id": "1fbddbc0",
   "metadata": {},
   "outputs": [
    {
     "data": {
      "text/html": [
       "<div>\n",
       "<style scoped>\n",
       "    .dataframe tbody tr th:only-of-type {\n",
       "        vertical-align: middle;\n",
       "    }\n",
       "\n",
       "    .dataframe tbody tr th {\n",
       "        vertical-align: top;\n",
       "    }\n",
       "\n",
       "    .dataframe thead th {\n",
       "        text-align: right;\n",
       "    }\n",
       "</style>\n",
       "<table border=\"1\" class=\"dataframe\">\n",
       "  <thead>\n",
       "    <tr style=\"text-align: right;\">\n",
       "      <th></th>\n",
       "      <th>Model</th>\n",
       "      <th>Accuracy</th>\n",
       "      <th>Recall</th>\n",
       "      <th>Precision</th>\n",
       "      <th>F1 Score</th>\n",
       "    </tr>\n",
       "  </thead>\n",
       "  <tbody>\n",
       "    <tr>\n",
       "      <th>0</th>\n",
       "      <td>Logistic Regression</td>\n",
       "      <td>0.707286</td>\n",
       "      <td>0.658333</td>\n",
       "      <td>0.518033</td>\n",
       "      <td>0.579817</td>\n",
       "    </tr>\n",
       "    <tr>\n",
       "      <th>1</th>\n",
       "      <td>Decision tree</td>\n",
       "      <td>0.830848</td>\n",
       "      <td>0.686111</td>\n",
       "      <td>0.742857</td>\n",
       "      <td>0.713357</td>\n",
       "    </tr>\n",
       "  </tbody>\n",
       "</table>\n",
       "</div>"
      ],
      "text/plain": [
       "                 Model  Accuracy    Recall  Precision  F1 Score\n",
       "0  Logistic Regression  0.707286  0.658333   0.518033  0.579817\n",
       "1        Decision tree  0.830848  0.686111   0.742857  0.713357"
      ]
     },
     "execution_count": 87,
     "metadata": {},
     "output_type": "execute_result"
    }
   ],
   "source": [
    "performance_metrics"
   ]
  },
  {
   "cell_type": "markdown",
   "id": "92b41b70",
   "metadata": {},
   "source": [
    "## Random Forest"
   ]
  },
  {
   "cell_type": "code",
   "execution_count": 88,
   "id": "8c2b95e5",
   "metadata": {},
   "outputs": [
    {
     "data": {
      "text/plain": [
       "RandomForestClassifier(class_weight='balanced', max_depth=6,\n",
       "                       min_samples_leaf=100, min_samples_split=100)"
      ]
     },
     "execution_count": 88,
     "metadata": {},
     "output_type": "execute_result"
    }
   ],
   "source": [
    "rf = RandomForestClassifier(criterion='gini',\n",
    "                             n_estimators=100,\n",
    "                             max_depth=6,\n",
    "                             min_samples_split=100,\n",
    "                             min_samples_leaf=100,\n",
    "                           class_weight='balanced')\n",
    "rf.fit(df_train_x , df_train_y)"
   ]
  },
  {
   "cell_type": "code",
   "execution_count": 89,
   "id": "56fd6ea9",
   "metadata": {},
   "outputs": [],
   "source": [
    "# Prediction on train data set\n",
    "pred_rf_train= rf.predict(df_train_x)"
   ]
  },
  {
   "cell_type": "code",
   "execution_count": 90,
   "id": "f3c3fbe9",
   "metadata": {},
   "outputs": [],
   "source": [
    "Acc_tr  = accuracy_score(df_train_y , pred_rf_train)\n",
    "recall_tr    = recall_score(df_train_y , pred_rf_train)\n",
    "precision_tr = precision_score(df_train_y , pred_rf_train)\n",
    "f1_ratio_tr  = f1_score(df_train_y , pred_rf_train)"
   ]
  },
  {
   "cell_type": "code",
   "execution_count": 91,
   "id": "89785319",
   "metadata": {},
   "outputs": [
    {
     "name": "stdout",
     "output_type": "stream",
     "text": [
      "Accuracy     =  0.764567821301392 \n",
      "Recall_score =  0.7131313131313132 \n",
      "Precision    =  0.7785333578386326 \n",
      "F1_ratio     =  0.7443985590018452\n"
     ]
    }
   ],
   "source": [
    "print(\"Accuracy     = \" , Acc_tr , \"\\nRecall_score = \" , recall_tr ,\"\\nPrecision    = \" , precision_tr , \"\\nF1_ratio     = \" , f1_ratio_tr)"
   ]
  },
  {
   "cell_type": "markdown",
   "id": "21db3c90",
   "metadata": {},
   "source": [
    "* The random forest model shows no signs of overfitting on the training data."
   ]
  },
  {
   "cell_type": "code",
   "execution_count": 92,
   "id": "abf35222",
   "metadata": {},
   "outputs": [
    {
     "data": {
      "image/png": "[encoded data removed]",
      "text/plain": [
       "<Figure size 432x288 with 1 Axes>"
      ]
     },
     "metadata": {
      "needs_background": "light"
     },
     "output_type": "display_data"
    },
    {
     "name": "stdout",
     "output_type": "stream",
     "text": [
      "Classification report:\n",
      "              precision    recall  f1-score   support\n",
      "\n",
      "           0       0.86      0.79      0.82      1627\n",
      "           1       0.59      0.70      0.64       720\n",
      "\n",
      "    accuracy                           0.76      2347\n",
      "   macro avg       0.72      0.74      0.73      2347\n",
      "weighted avg       0.78      0.76      0.77      2347\n",
      "\n",
      "Accuracy of the model:  0.7609714529186196\n"
     ]
    }
   ],
   "source": [
    "# prediction on test\n",
    "pred_rf_test = rf.predict(df_test_x)\n",
    "cfm=confusion_matrix(df_test_y,pred_rf_test)\n",
    "sns.heatmap(cfm, annot=True, fmt='g', cbar=False, cmap='BuPu')\n",
    "plt.xlabel('Predicted Values')\n",
    "plt.ylabel('Actual Values')\n",
    "plt.show()\n",
    "\n",
    "\n",
    "print(\"Classification report:\")\n",
    "\n",
    "print(classification_report(df_test_y,pred_rf_test))\n",
    "\n",
    "acc=accuracy_score(df_test_y,pred_rf_test)\n",
    "print(\"Accuracy of the model: \",acc)"
   ]
  },
  {
   "cell_type": "code",
   "execution_count": 93,
   "id": "ea2146f5",
   "metadata": {},
   "outputs": [
    {
     "data": {
      "text/html": [
       "<div>\n",
       "<style scoped>\n",
       "    .dataframe tbody tr th:only-of-type {\n",
       "        vertical-align: middle;\n",
       "    }\n",
       "\n",
       "    .dataframe tbody tr th {\n",
       "        vertical-align: top;\n",
       "    }\n",
       "\n",
       "    .dataframe thead th {\n",
       "        text-align: right;\n",
       "    }\n",
       "</style>\n",
       "<table border=\"1\" class=\"dataframe\">\n",
       "  <thead>\n",
       "    <tr style=\"text-align: right;\">\n",
       "      <th></th>\n",
       "      <th>Model</th>\n",
       "      <th>Accuracy</th>\n",
       "      <th>Recall</th>\n",
       "      <th>Precision</th>\n",
       "      <th>F1 Score</th>\n",
       "    </tr>\n",
       "  </thead>\n",
       "  <tbody>\n",
       "    <tr>\n",
       "      <th>0</th>\n",
       "      <td>Logistic Regression</td>\n",
       "      <td>0.707286</td>\n",
       "      <td>0.658333</td>\n",
       "      <td>0.518033</td>\n",
       "      <td>0.579817</td>\n",
       "    </tr>\n",
       "    <tr>\n",
       "      <th>1</th>\n",
       "      <td>Decision tree</td>\n",
       "      <td>0.830848</td>\n",
       "      <td>0.686111</td>\n",
       "      <td>0.742857</td>\n",
       "      <td>0.713357</td>\n",
       "    </tr>\n",
       "    <tr>\n",
       "      <th>2</th>\n",
       "      <td>Random Forest</td>\n",
       "      <td>0.760971</td>\n",
       "      <td>0.701389</td>\n",
       "      <td>0.593420</td>\n",
       "      <td>0.642903</td>\n",
       "    </tr>\n",
       "  </tbody>\n",
       "</table>\n",
       "</div>"
      ],
      "text/plain": [
       "                 Model  Accuracy    Recall  Precision  F1 Score\n",
       "0  Logistic Regression  0.707286  0.658333   0.518033  0.579817\n",
       "1        Decision tree  0.830848  0.686111   0.742857  0.713357\n",
       "2        Random Forest  0.760971  0.701389   0.593420  0.642903"
      ]
     },
     "execution_count": 93,
     "metadata": {},
     "output_type": "execute_result"
    }
   ],
   "source": [
    "# Append metrics to the DataFrame\n",
    "performance_metrics = performance_metrics._append({\"Model\": \"Random Forest\",  \"Accuracy\": accuracy_score(df_test_y , pred_rf_test),  \"Recall\":recall_score(df_test_y , pred_rf_test) ,\"Precision\": precision_score(df_test_y , pred_rf_test), \"F1 Score\": f1_score(df_test_y , pred_rf_test)}, ignore_index=True)\n",
    "performance_metrics"
   ]
  },
  {
   "cell_type": "markdown",
   "id": "b724d8dc",
   "metadata": {},
   "source": [
    "## Conclusion\n",
    "\n",
    "1.\tDecision tree model performs better compared to random forest and logistic regression. Since F1 score for decision tree is 71.3%\n",
    "2.\tAccording to exploratory data analysis, people age between 57 to 73 have highest risk of postsurgical complications.\n",
    "3.\tThe main factor affecting postsurgical complication is age, followed by complication risk index, complication rate and so forth.\n"
   ]
  },
  {
   "cell_type": "markdown",
   "id": "eb26bdb8",
   "metadata": {},
   "source": [
    "## Scope\n",
    "Post Surgical Complications Prediction project can have several benefits and considerations:\n",
    "\n",
    "Improved Patient Outcomes: Predicting post-surgical complications can lead to better patient outcomes by enabling early intervention and personalized care, reducing complications, and potentially saving lives.\n",
    "\n",
    "Cost Reduction: Hospitals and healthcare providers can save significant costs by preventing complications that require additional treatments or readmissions. Fewer complications mean lower healthcare expenses.\n",
    "\n",
    "Enhanced Reputation: Healthcare institutions that successfully implement such predictive projects can gain a reputation for providing high-quality care and being proactive in patient safety."
   ]
  },
  {
   "cell_type": "code",
   "execution_count": null,
   "id": "d68999eb",
   "metadata": {},
   "outputs": [],
   "source": []
  },
  {
   "cell_type": "code",
   "execution_count": null,
   "id": "2de09376",
   "metadata": {},
   "outputs": [],
   "source": []
  }
 ],
 "metadata": {
  "kernelspec": {
   "display_name": "Python 3 (ipykernel)",
   "language": "python",
   "name": "python3"
  },
  "language_info": {
   "codemirror_mode": {
    "name": "ipython",
    "version": 3
   },
   "file_extension": ".py",
   "mimetype": "text/x-python",
   "name": "python",
   "nbconvert_exporter": "python",
   "pygments_lexer": "ipython3",
   "version": "3.9.12"
  }
 },
 "nbformat": 4,
 "nbformat_minor": 5
}
